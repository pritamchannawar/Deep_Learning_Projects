{
  "nbformat": 4,
  "nbformat_minor": 0,
  "metadata": {
    "colab": {
      "provenance": []
    },
    "kernelspec": {
      "name": "python3",
      "display_name": "Python 3"
    },
    "language_info": {
      "name": "python"
    }
  },
  "cells": [
    {
      "cell_type": "markdown",
      "source": [
        "# Deep Learning Word2Vec Assignment"
      ],
      "metadata": {
        "id": "wSS0BvXIdehR"
      }
    },
    {
      "cell_type": "markdown",
      "source": [
        "Part 1: Semantic Analysis with Word2Vec\n",
        "1. Word Embeddings Generation:\n",
        "\n",
        "• Use the Gensim library to train a Word2Vec model on a dataset (Shakespeare dataset or another corpus\n",
        "of your choice).\n",
        "\n",
        "• Generate word embeddings for the vocabulary of the corpus.\n",
        "2. Semantic Similarity:\n",
        "\n",
        "• Implement a function to find the k most similar words to a given word based on the trained Word2Vec\n",
        "embeddings.\n",
        "\n",
        "• Test the function with several words, including both common and unusual words from the corpus.\n",
        "\n",
        "3. Word Analogy Task:\n",
        "\n",
        "• Create a function that solves word analogies using the embeddings. The function should take three words\n",
        "as input: word1, word2, word3, and predict a word4 such that word1 is to word2 as word3 is to word4.\n",
        "\n",
        "• Test this function with at least 5 different word sets."
      ],
      "metadata": {
        "id": "NAgDZoU10Bos"
      }
    },
    {
      "cell_type": "code",
      "source": [
        "#!pip install gensim numpy nltk"
      ],
      "metadata": {
        "id": "ZLRjlhJHqL4P"
      },
      "execution_count": 26,
      "outputs": []
    },
    {
      "cell_type": "code",
      "execution_count": 27,
      "metadata": {
        "id": "Ffm1StiIFBz7"
      },
      "outputs": [],
      "source": [
        "# Import necessary libraries\n",
        "import gensim\n",
        "from gensim.models import Word2Vec\n",
        "from nltk.tokenize import word_tokenize\n",
        "import nltk\n",
        "import numpy as np"
      ]
    },
    {
      "cell_type": "code",
      "source": [
        "# Download NLTK data for tokenization\n",
        "nltk.download('punkt')\n",
        "\n",
        "# Load the Shakespeare dataset or any other corpus\n",
        "corpus_path = 'Shakespeare.txt'\n",
        "with open(corpus_path, 'r', encoding='utf-8') as file:\n",
        "    corpus = file.read()"
      ],
      "metadata": {
        "colab": {
          "base_uri": "https://localhost:8080/"
        },
        "id": "f1lmAueAFDhw",
        "outputId": "7721e88d-5ca2-4698-e357-5de6b348c319"
      },
      "execution_count": 28,
      "outputs": [
        {
          "output_type": "stream",
          "name": "stderr",
          "text": [
            "[nltk_data] Downloading package punkt to /root/nltk_data...\n",
            "[nltk_data]   Package punkt is already up-to-date!\n"
          ]
        }
      ]
    },
    {
      "cell_type": "code",
      "source": [
        "# Tokenize the corpus\n",
        "tokenized_corpus = [word_tokenize(sentence.lower()) for sentence in nltk.sent_tokenize(corpus)]"
      ],
      "metadata": {
        "id": "_gN8poPAFDfF"
      },
      "execution_count": 29,
      "outputs": []
    },
    {
      "cell_type": "code",
      "source": [
        "# Train Word2Vec model\n",
        "model = Word2Vec(sentences=tokenized_corpus, vector_size=100, window=5, min_count=1, workers=5)"
      ],
      "metadata": {
        "id": "w8EhRbrUFDcd"
      },
      "execution_count": 30,
      "outputs": []
    },
    {
      "cell_type": "code",
      "source": [
        "# Function to find k most similar words\n",
        "def find_similar_words(word, k=5):\n",
        "    similar_words = model.wv.most_similar(word, topn=k)\n",
        "    return similar_words"
      ],
      "metadata": {
        "id": "fAilfZ8vFDXP"
      },
      "execution_count": 31,
      "outputs": []
    },
    {
      "cell_type": "code",
      "source": [
        "# Test similarity function\n",
        "print(\"Similar words to 'queen':\", find_similar_words('queen'))\n"
      ],
      "metadata": {
        "colab": {
          "base_uri": "https://localhost:8080/"
        },
        "id": "XM_l2aO9FDMA",
        "outputId": "1e244356-f73c-4bcb-fa78-b60f7c42182f"
      },
      "execution_count": 32,
      "outputs": [
        {
          "output_type": "stream",
          "name": "stdout",
          "text": [
            "Similar words to 'queen': [('prince', 0.901370108127594), ('duke', 0.8673526644706726), ('governor', 0.8593849539756775), ('page', 0.8455472588539124), ('york', 0.8378102779388428)]\n"
          ]
        }
      ]
    },
    {
      "cell_type": "code",
      "source": [
        "# Test similarity function\n",
        "print(\"Similar words to 'love':\", find_similar_words('love'))"
      ],
      "metadata": {
        "colab": {
          "base_uri": "https://localhost:8080/"
        },
        "id": "MeBknkRN6n8k",
        "outputId": "0c11db90-4789-4924-b725-31b5e37dd489"
      },
      "execution_count": 33,
      "outputs": [
        {
          "output_type": "stream",
          "name": "stdout",
          "text": [
            "Similar words to 'love': [('honour', 0.8075200319290161), ('pity', 0.7921184301376343), ('heart', 0.7879105806350708), ('mind', 0.7794352173805237), ('fear', 0.7775632739067078)]\n"
          ]
        }
      ]
    },
    {
      "cell_type": "code",
      "source": [
        "# Test similarity function\n",
        "print(\"Similar words to 'sad':\", find_similar_words('sad'))"
      ],
      "metadata": {
        "colab": {
          "base_uri": "https://localhost:8080/"
        },
        "id": "f2T1pyjR6zCO",
        "outputId": "33830980-778e-4710-da12-62c8e97d5f3f"
      },
      "execution_count": 34,
      "outputs": [
        {
          "output_type": "stream",
          "name": "stdout",
          "text": [
            "Similar words to 'sad': [('angry', 0.8999916911125183), ('disposed', 0.8781449794769287), ('horribly', 0.8700206279754639), ('pitiful', 0.8677997589111328), ('blest', 0.8667511343955994)]\n"
          ]
        }
      ]
    },
    {
      "cell_type": "code",
      "source": [
        "# Test similarity function\n",
        "print(\"Similar words to 'own':\", find_similar_words('own'))"
      ],
      "metadata": {
        "colab": {
          "base_uri": "https://localhost:8080/"
        },
        "id": "C_DLXqt16nw-",
        "outputId": "a6b749db-e8a2-4ea0-ce0d-3054b1db2385"
      },
      "execution_count": 35,
      "outputs": [
        {
          "output_type": "stream",
          "name": "stdout",
          "text": [
            "Similar words to 'own': [('honour', 0.8248804807662964), ('ears', 0.7746052742004395), ('eyes', 0.7658484578132629), ('tears', 0.7652004361152649), ('eye', 0.7514035105705261)]\n"
          ]
        }
      ]
    },
    {
      "cell_type": "code",
      "source": [
        "# Test similarity function\n",
        "print(\"Similar words to 'misuse':\", find_similar_words('misuse'))"
      ],
      "metadata": {
        "colab": {
          "base_uri": "https://localhost:8080/"
        },
        "id": "0MmavueC6njw",
        "outputId": "91198de9-ea1f-44f5-91c3-8286e296b25f"
      },
      "execution_count": 36,
      "outputs": [
        {
          "output_type": "stream",
          "name": "stdout",
          "text": [
            "Similar words to 'misuse': [('flattering', 0.9139246344566345), ('affectation', 0.9130411744117737), ('outcast', 0.911979615688324), ('normans', 0.9110307693481445), ('smells', 0.9106159210205078)]\n"
          ]
        }
      ]
    },
    {
      "cell_type": "code",
      "source": [
        "# Test similarity function\n",
        "print(\"Similar words to 'jester':\", find_similar_words('jester'))"
      ],
      "metadata": {
        "colab": {
          "base_uri": "https://localhost:8080/"
        },
        "id": "Jkr8nviZP1EI",
        "outputId": "e878e085-34e0-44f1-a77d-9b95b2ec99e9"
      },
      "execution_count": 37,
      "outputs": [
        {
          "output_type": "stream",
          "name": "stdout",
          "text": [
            "Similar words to 'jester': [('respecting', 0.7383424639701843), ('stoics', 0.7375606298446655), ('bigger', 0.7360274195671082), ('matter', 0.7339342832565308), ('count', 0.7294655442237854)]\n"
          ]
        }
      ]
    },
    {
      "cell_type": "code",
      "source": [
        "# Function for word analogy task\n",
        "def word_analogy_task(word1, word2, word3, k=1):\n",
        "    try:\n",
        "        word4 = model.wv.most_similar(positive=[word2, word3], negative=[word1], topn=k)[0][0]\n",
        "        return word4\n",
        "    except KeyError:\n",
        "        return f\"Words not in vocabulary: {word1}, {word2}, {word3}\""
      ],
      "metadata": {
        "id": "XLqJLVNHq1Kz"
      },
      "execution_count": 38,
      "outputs": []
    },
    {
      "cell_type": "code",
      "source": [
        "# Test word analogy function\n",
        "word_sets = [('sun', 'day', 'moon', 2),\n",
        "             ('fish', 'water', 'bird', 2),\n",
        "              ('cat', 'kitten', 'dog', 2),\n",
        "            ('happy', 'happier', 'sad', 2),\n",
        "              ('book', 'author', 'song', 2),\n",
        "             ('king', 'queen', 'man', 2),\n",
        "             ('paris', 'france', 'london', 2),\n",
        "             ('good', 'better', 'bad', 2)]\n",
        "\n",
        "for word_set in word_sets:\n",
        "    word1, word2, word3, k = word_set\n",
        "    predicted_word = word_analogy_task(word1, word2, word3, k)\n",
        "    print(f\"{word1} : {word2} :: {word3} : {predicted_word}\")"
      ],
      "metadata": {
        "colab": {
          "base_uri": "https://localhost:8080/"
        },
        "id": "ElYWt37Lq4jR",
        "outputId": "b4e3fb80-acbb-4908-ab8a-064c7f0b3f5a"
      },
      "execution_count": 39,
      "outputs": [
        {
          "output_type": "stream",
          "name": "stdout",
          "text": [
            "sun : day :: moon : night\n",
            "fish : water :: bird : channel\n",
            "cat : kitten :: dog : nightingale\n",
            "happy : happier :: sad : stirs\n",
            "book : author :: song : friar\n",
            "king : queen :: man : woman\n",
            "paris : france :: london : frogmore\n",
            "good : better :: bad : greater\n"
          ]
        }
      ]
    },
    {
      "cell_type": "code",
      "source": [
        "# Save the Word2Vec model\n",
        "model.save(\"word2vec_model\")"
      ],
      "metadata": {
        "id": "5Zh_NXSFs8lK"
      },
      "execution_count": 40,
      "outputs": []
    },
    {
      "cell_type": "markdown",
      "source": [
        "Part 3: Visualization (Optional)\n",
        "\n",
        "• Use PCA or t-SNE to visualize the high-dimensional word embeddings in two dimensions.\n",
        "\n",
        "• Plot the embeddings for a select set of words and their closest neighbors."
      ],
      "metadata": {
        "id": "-w_ceZR5dWor"
      }
    },
    {
      "cell_type": "code",
      "source": [
        "from sklearn.decomposition import PCA\n",
        "from sklearn.manifold import TSNE\n",
        "import numpy as np\n",
        "import matplotlib.pyplot as plt\n"
      ],
      "metadata": {
        "id": "54nUrAw_cbR1"
      },
      "execution_count": 41,
      "outputs": []
    },
    {
      "cell_type": "code",
      "source": [
        "# Visualize word embeddings using PCA\n",
        "def plot_embeddings(words, embeddings, title):\n",
        "    pca = PCA(n_components=2)\n",
        "    reduced_embeddings = pca.fit_transform(embeddings)\n",
        "\n",
        "    plt.figure(figsize=(10, 8))\n",
        "    plt.scatter(reduced_embeddings[:, 0], reduced_embeddings[:, 1], c='blue', edgecolors='k')\n",
        "    for i, word in enumerate(words):\n",
        "        plt.annotate(word, (reduced_embeddings[i, 0], reduced_embeddings[i, 1]))\n",
        "\n",
        "    plt.title(title)\n",
        "    plt.show()"
      ],
      "metadata": {
        "id": "4hk9sHqtcbNv"
      },
      "execution_count": 42,
      "outputs": []
    },
    {
      "cell_type": "code",
      "source": [
        "# Select a set of words for visualization\n",
        "visualization_words = ['love', 'king', 'queen', 'sword', 'forest', 'ship', 'war', 'peace','hate','feet','friend','broil','lord',\n",
        "                       'land','holy','nail','scot','blood','dead','bold','heat','horse','good','grace']"
      ],
      "metadata": {
        "id": "uZnkXa_qc_KW"
      },
      "execution_count": 43,
      "outputs": []
    },
    {
      "cell_type": "code",
      "source": [
        "# Get embeddings for visualization words\n",
        "embeddings = [model.wv[word] for word in visualization_words]"
      ],
      "metadata": {
        "id": "dPXgJLH1dKqd"
      },
      "execution_count": 44,
      "outputs": []
    },
    {
      "cell_type": "code",
      "source": [
        "# Plot the embeddings using PCA\n",
        "plot_embeddings(visualization_words, embeddings, 'Word Embeddings Visualization using PCA')\n"
      ],
      "metadata": {
        "colab": {
          "base_uri": "https://localhost:8080/",
          "height": 699
        },
        "id": "aSW71KpqdOZ7",
        "outputId": "dd6a5884-6f5d-4ebe-ecf9-6694e884f630"
      },
      "execution_count": 45,
      "outputs": [
        {
          "output_type": "display_data",
          "data": {
            "text/plain": [
              "<Figure size 1000x800 with 1 Axes>"
            ],
            "image/png": "[encoded data removed]"
          },
          "metadata": {}
        }
      ]
    }
  ]
}