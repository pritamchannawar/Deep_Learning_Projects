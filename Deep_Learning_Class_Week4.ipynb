{
 "cells": [
  {
   "cell_type": "code",
   "execution_count": 2,
   "id": "8f604729-076b-4660-86d1-6642957769e3",
   "metadata": {},
   "outputs": [],
   "source": [
    "import numpy as np\n",
    "from tensorflow import keras\n",
    "from tensorflow.keras import layers"
   ]
  },
  {
   "cell_type": "code",
   "execution_count": 33,
   "id": "b8153c4b-52ac-4ae9-897e-884217012e9c",
   "metadata": {},
   "outputs": [],
   "source": [
    "import matplotlib.pyplot as plt"
   ]
  },
  {
   "cell_type": "code",
   "execution_count": 3,
   "id": "005c9b8b-8af2-4747-bff1-fb9293bfdac8",
   "metadata": {},
   "outputs": [],
   "source": [
    "mnist = keras.datasets.mnist.load_data()"
   ]
  },
  {
   "cell_type": "code",
   "execution_count": 20,
   "id": "3314d814-902e-4653-a7bb-5e90f2380cb9",
   "metadata": {},
   "outputs": [],
   "source": [
    "# Model / data parameters\n",
    "num_classes = 10\n",
    "input_shape = (28, 28, 1)"
   ]
  },
  {
   "cell_type": "code",
   "execution_count": 25,
   "id": "222c342e-98b5-4d14-adeb-6ee72d09b863",
   "metadata": {},
   "outputs": [],
   "source": [
    "# Load the data and split it between train and test sets\n",
    "(x_train, y_train), (x_test, y_test) = mnist"
   ]
  },
  {
   "cell_type": "code",
   "execution_count": 43,
   "id": "6edf06d2-e59b-4a1e-9062-1e96a1ded17e",
   "metadata": {},
   "outputs": [
    {
     "data": {
      "text/plain": [
       "10000"
      ]
     },
     "execution_count": 43,
     "metadata": {},
     "output_type": "execute_result"
    }
   ],
   "source": [
    "len(y_test)"
   ]
  },
  {
   "cell_type": "code",
   "execution_count": 41,
   "id": "972c375b-f0af-4624-befc-d3b8ffed9f76",
   "metadata": {},
   "outputs": [
    {
     "data": {
      "image/png": "[encoded data removed]",
      "text/plain": [
       "<Figure size 432x288 with 1 Axes>"
      ]
     },
     "metadata": {
      "needs_background": "light"
     },
     "output_type": "display_data"
    }
   ],
   "source": [
    "image = x_train[5]\n",
    "fig = plt.figure\n",
    "plt.imshow(image, cmap='gray')\n",
    "plt.show()"
   ]
  },
  {
   "cell_type": "code",
   "execution_count": 44,
   "id": "96da975b-268b-4a0c-9bcf-d31c73cee9ab",
   "metadata": {},
   "outputs": [
    {
     "name": "stdout",
     "output_type": "stream",
     "text": [
      "x_train shape: (60000, 28, 28, 1)\n",
      "60000 train samples\n",
      "10000 test samples\n"
     ]
    }
   ],
   "source": [
    "x_train = x_train.astype(\"float32\") / 255\n",
    "x_test = x_test.astype(\"float32\") / 255\n",
    "\n",
    "# Make sure images have shape (28, 28, 1)\n",
    "x_train = np.expand_dims(x_train, -1)\n",
    "x_test = np.expand_dims(x_test, -1)\n",
    "\n",
    "print(\"x_train shape:\", x_train.shape)\n",
    "print(x_train.shape[0], \"train samples\")\n",
    "print(x_test.shape[0], \"test samples\")"
   ]
  },
  {
   "cell_type": "code",
   "execution_count": 45,
   "id": "e5af38db-b27e-4bd3-86b9-f61008973506",
   "metadata": {},
   "outputs": [
    {
     "data": {
      "text/plain": [
       "array([7, 2, 1, ..., 4, 5, 6], dtype=uint8)"
      ]
     },
     "execution_count": 45,
     "metadata": {},
     "output_type": "execute_result"
    }
   ],
   "source": [
    "y_test"
   ]
  },
  {
   "cell_type": "code",
   "execution_count": 46,
   "id": "f47c8e96-c68c-4f2a-95ab-9b69c2f58e09",
   "metadata": {},
   "outputs": [],
   "source": [
    "y_train = keras.utils.to_categorical(y_train, num_classes)\n",
    "y_test = keras.utils.to_categorical(y_test, num_classes)"
   ]
  },
  {
   "cell_type": "code",
   "execution_count": 48,
   "id": "e3411cfa-4e97-4231-ae9f-d431e9fdb12b",
   "metadata": {},
   "outputs": [
    {
     "data": {
      "text/plain": [
       "array([0., 0., 0., 0., 0., 1., 0., 0., 0., 0.], dtype=float32)"
      ]
     },
     "execution_count": 48,
     "metadata": {},
     "output_type": "execute_result"
    }
   ],
   "source": [
    "y_train[0]"
   ]
  },
  {
   "cell_type": "code",
   "execution_count": 61,
   "id": "a75c1265-e8d4-48aa-bf7f-845a942647db",
   "metadata": {},
   "outputs": [],
   "source": [
    "model = keras.Sequential(\n",
    "    [\n",
    "        keras.Input(shape=input_shape),\n",
    "        layers.Conv2D(32, kernel_size=(3, 3), activation=\"relu\"),\n",
    "        layers.MaxPooling2D(pool_size=(2, 2)),\n",
    "        layers.Conv2D(64, kernel_size=(3, 3), activation=\"relu\"),\n",
    "        layers.MaxPooling2D(pool_size=(2, 2)),\n",
    "        layers.Flatten(),\n",
    "        layers.Dropout(0.5),\n",
    "        layers.Dense(num_classes, activation=\"softmax\"),\n",
    "    ]\n",
    ")"
   ]
  },
  {
   "cell_type": "code",
   "execution_count": 62,
   "id": "e94e187f-0e4d-4db3-b2b2-96d256157d18",
   "metadata": {},
   "outputs": [],
   "source": [
    "batch_size = 128\n",
    "epochs = 50"
   ]
  },
  {
   "cell_type": "code",
   "execution_count": 63,
   "id": "48a41fc3-c7fb-4e5d-860b-95f95b62aca6",
   "metadata": {},
   "outputs": [],
   "source": [
    "model.compile(loss=\"categorical_crossentropy\", optimizer=\"adam\", metrics=[\"accuracy\"])"
   ]
  },
  {
   "cell_type": "code",
   "execution_count": 64,
   "id": "ad881ec3-40b7-4ce9-9db9-0e44bbcac408",
   "metadata": {},
   "outputs": [
    {
     "name": "stdout",
     "output_type": "stream",
     "text": [
      "Epoch 1/50\n",
      "422/422 [==============================] - 4s 10ms/step - loss: 0.3632 - accuracy: 0.8885 - val_loss: 0.0879 - val_accuracy: 0.9760\n",
      "Epoch 2/50\n",
      "422/422 [==============================] - 5s 11ms/step - loss: 0.1140 - accuracy: 0.9650 - val_loss: 0.0541 - val_accuracy: 0.9857\n",
      "Epoch 3/50\n",
      "422/422 [==============================] - 5s 12ms/step - loss: 0.0879 - accuracy: 0.9729 - val_loss: 0.0480 - val_accuracy: 0.9865\n",
      "Epoch 4/50\n",
      "422/422 [==============================] - 6s 14ms/step - loss: 0.0734 - accuracy: 0.9763 - val_loss: 0.0445 - val_accuracy: 0.9873\n",
      "Epoch 5/50\n",
      "422/422 [==============================] - 4s 9ms/step - loss: 0.0645 - accuracy: 0.9803 - val_loss: 0.0419 - val_accuracy: 0.9877\n",
      "Epoch 6/50\n",
      "422/422 [==============================] - 4s 9ms/step - loss: 0.0574 - accuracy: 0.9822 - val_loss: 0.0372 - val_accuracy: 0.9897\n",
      "Epoch 7/50\n",
      "422/422 [==============================] - 4s 9ms/step - loss: 0.0532 - accuracy: 0.9839 - val_loss: 0.0359 - val_accuracy: 0.9910\n",
      "Epoch 8/50\n",
      "422/422 [==============================] - 4s 9ms/step - loss: 0.0500 - accuracy: 0.9838 - val_loss: 0.0325 - val_accuracy: 0.9920\n",
      "Epoch 9/50\n",
      "422/422 [==============================] - 4s 9ms/step - loss: 0.0483 - accuracy: 0.9852 - val_loss: 0.0323 - val_accuracy: 0.9912\n",
      "Epoch 10/50\n",
      "422/422 [==============================] - 6s 14ms/step - loss: 0.0433 - accuracy: 0.9867 - val_loss: 0.0331 - val_accuracy: 0.9920\n",
      "Epoch 11/50\n",
      "422/422 [==============================] - 4s 9ms/step - loss: 0.0421 - accuracy: 0.9863 - val_loss: 0.0330 - val_accuracy: 0.9898\n",
      "Epoch 12/50\n",
      "422/422 [==============================] - 4s 9ms/step - loss: 0.0400 - accuracy: 0.9873 - val_loss: 0.0305 - val_accuracy: 0.9920\n",
      "Epoch 13/50\n",
      "422/422 [==============================] - 4s 9ms/step - loss: 0.0372 - accuracy: 0.9881 - val_loss: 0.0290 - val_accuracy: 0.9922\n",
      "Epoch 14/50\n",
      "422/422 [==============================] - 4s 9ms/step - loss: 0.0348 - accuracy: 0.9883 - val_loss: 0.0293 - val_accuracy: 0.9918\n",
      "Epoch 15/50\n",
      "422/422 [==============================] - 6s 14ms/step - loss: 0.0361 - accuracy: 0.9884 - val_loss: 0.0278 - val_accuracy: 0.9933\n",
      "Epoch 16/50\n",
      "422/422 [==============================] - 6s 14ms/step - loss: 0.0339 - accuracy: 0.9890 - val_loss: 0.0290 - val_accuracy: 0.9910\n",
      "Epoch 17/50\n",
      "422/422 [==============================] - 8s 19ms/step - loss: 0.0309 - accuracy: 0.9895 - val_loss: 0.0268 - val_accuracy: 0.9922\n",
      "Epoch 18/50\n",
      "422/422 [==============================] - 8s 18ms/step - loss: 0.0309 - accuracy: 0.9894 - val_loss: 0.0276 - val_accuracy: 0.9922\n",
      "Epoch 19/50\n",
      "422/422 [==============================] - 9s 20ms/step - loss: 0.0282 - accuracy: 0.9907 - val_loss: 0.0304 - val_accuracy: 0.9912\n",
      "Epoch 20/50\n",
      "422/422 [==============================] - 11s 27ms/step - loss: 0.0281 - accuracy: 0.9908 - val_loss: 0.0279 - val_accuracy: 0.9925\n",
      "Epoch 21/50\n",
      "422/422 [==============================] - 5s 11ms/step - loss: 0.0275 - accuracy: 0.9911 - val_loss: 0.0274 - val_accuracy: 0.9925\n",
      "Epoch 22/50\n",
      "422/422 [==============================] - 4s 9ms/step - loss: 0.0272 - accuracy: 0.9904 - val_loss: 0.0274 - val_accuracy: 0.9925\n",
      "Epoch 23/50\n",
      "422/422 [==============================] - 4s 9ms/step - loss: 0.0253 - accuracy: 0.9915 - val_loss: 0.0282 - val_accuracy: 0.9918\n",
      "Epoch 24/50\n",
      "422/422 [==============================] - 4s 9ms/step - loss: 0.0251 - accuracy: 0.9917 - val_loss: 0.0280 - val_accuracy: 0.9932\n",
      "Epoch 25/50\n",
      "422/422 [==============================] - 4s 9ms/step - loss: 0.0238 - accuracy: 0.9922 - val_loss: 0.0257 - val_accuracy: 0.9938\n",
      "Epoch 26/50\n",
      "422/422 [==============================] - 4s 10ms/step - loss: 0.0249 - accuracy: 0.9912 - val_loss: 0.0265 - val_accuracy: 0.9927\n",
      "Epoch 27/50\n",
      "422/422 [==============================] - 4s 9ms/step - loss: 0.0242 - accuracy: 0.9920 - val_loss: 0.0262 - val_accuracy: 0.9930\n",
      "Epoch 28/50\n",
      "422/422 [==============================] - 4s 9ms/step - loss: 0.0227 - accuracy: 0.9929 - val_loss: 0.0261 - val_accuracy: 0.9925\n",
      "Epoch 29/50\n",
      "422/422 [==============================] - 8s 19ms/step - loss: 0.0223 - accuracy: 0.9925 - val_loss: 0.0260 - val_accuracy: 0.9935\n",
      "Epoch 30/50\n",
      "422/422 [==============================] - 4s 9ms/step - loss: 0.0211 - accuracy: 0.9926 - val_loss: 0.0285 - val_accuracy: 0.9930\n",
      "Epoch 31/50\n",
      "422/422 [==============================] - 8s 19ms/step - loss: 0.0213 - accuracy: 0.9927 - val_loss: 0.0260 - val_accuracy: 0.9935\n",
      "Epoch 32/50\n",
      "422/422 [==============================] - 8s 19ms/step - loss: 0.0201 - accuracy: 0.9935 - val_loss: 0.0283 - val_accuracy: 0.9922\n",
      "Epoch 33/50\n",
      "422/422 [==============================] - 4s 9ms/step - loss: 0.0208 - accuracy: 0.9929 - val_loss: 0.0277 - val_accuracy: 0.9927\n",
      "Epoch 34/50\n",
      "422/422 [==============================] - 6s 15ms/step - loss: 0.0207 - accuracy: 0.9932 - val_loss: 0.0259 - val_accuracy: 0.9927\n",
      "Epoch 35/50\n",
      "422/422 [==============================] - 6s 14ms/step - loss: 0.0194 - accuracy: 0.9934 - val_loss: 0.0279 - val_accuracy: 0.9930\n",
      "Epoch 36/50\n",
      "422/422 [==============================] - 8s 20ms/step - loss: 0.0188 - accuracy: 0.9934 - val_loss: 0.0283 - val_accuracy: 0.9922\n",
      "Epoch 37/50\n",
      "422/422 [==============================] - 6s 14ms/step - loss: 0.0182 - accuracy: 0.9940 - val_loss: 0.0275 - val_accuracy: 0.9930\n",
      "Epoch 38/50\n",
      "422/422 [==============================] - 6s 13ms/step - loss: 0.0186 - accuracy: 0.9937 - val_loss: 0.0303 - val_accuracy: 0.9923\n",
      "Epoch 39/50\n",
      "422/422 [==============================] - 6s 14ms/step - loss: 0.0197 - accuracy: 0.9936 - val_loss: 0.0289 - val_accuracy: 0.9927\n",
      "Epoch 40/50\n",
      "422/422 [==============================] - 6s 14ms/step - loss: 0.0177 - accuracy: 0.9937 - val_loss: 0.0278 - val_accuracy: 0.9932\n",
      "Epoch 41/50\n",
      "422/422 [==============================] - 6s 13ms/step - loss: 0.0190 - accuracy: 0.9933 - val_loss: 0.0259 - val_accuracy: 0.9935\n",
      "Epoch 42/50\n",
      "422/422 [==============================] - 6s 14ms/step - loss: 0.0175 - accuracy: 0.9943 - val_loss: 0.0267 - val_accuracy: 0.9933\n",
      "Epoch 43/50\n",
      "422/422 [==============================] - 6s 13ms/step - loss: 0.0170 - accuracy: 0.9942 - val_loss: 0.0272 - val_accuracy: 0.9937\n",
      "Epoch 44/50\n",
      "422/422 [==============================] - 6s 13ms/step - loss: 0.0167 - accuracy: 0.9940 - val_loss: 0.0271 - val_accuracy: 0.9942\n",
      "Epoch 45/50\n",
      "422/422 [==============================] - 6s 13ms/step - loss: 0.0152 - accuracy: 0.9947 - val_loss: 0.0285 - val_accuracy: 0.9930\n",
      "Epoch 46/50\n",
      "422/422 [==============================] - 6s 13ms/step - loss: 0.0155 - accuracy: 0.9944 - val_loss: 0.0273 - val_accuracy: 0.9933\n",
      "Epoch 47/50\n",
      "422/422 [==============================] - 6s 14ms/step - loss: 0.0167 - accuracy: 0.9940 - val_loss: 0.0279 - val_accuracy: 0.9935\n",
      "Epoch 48/50\n",
      "422/422 [==============================] - 6s 14ms/step - loss: 0.0147 - accuracy: 0.9950 - val_loss: 0.0322 - val_accuracy: 0.9923\n",
      "Epoch 49/50\n",
      "422/422 [==============================] - 6s 13ms/step - loss: 0.0164 - accuracy: 0.9941 - val_loss: 0.0269 - val_accuracy: 0.9932\n",
      "Epoch 50/50\n",
      "422/422 [==============================] - 4s 9ms/step - loss: 0.0144 - accuracy: 0.9949 - val_loss: 0.0305 - val_accuracy: 0.9928\n"
     ]
    },
    {
     "data": {
      "text/plain": [
       "<keras.callbacks.History at 0x1d742137be0>"
      ]
     },
     "execution_count": 64,
     "metadata": {},
     "output_type": "execute_result"
    }
   ],
   "source": [
    "model.fit(x_train, y_train, batch_size=batch_size, epochs=epochs, validation_split=0.1)"
   ]
  },
  {
   "cell_type": "code",
   "execution_count": null,
   "id": "bcb97512-6c1e-4c43-b18f-81af45c94102",
   "metadata": {},
   "outputs": [],
   "source": []
  }
 ],
 "metadata": {
  "kernelspec": {
   "display_name": "Python 3 (ipykernel)",
   "language": "python",
   "name": "python3"
  },
  "language_info": {
   "codemirror_mode": {
    "name": "ipython",
    "version": 3
   },
   "file_extension": ".py",
   "mimetype": "text/x-python",
   "name": "python",
   "nbconvert_exporter": "python",
   "pygments_lexer": "ipython3",
   "version": "3.11.4"
  }
 },
 "nbformat": 4,
 "nbformat_minor": 5
}
