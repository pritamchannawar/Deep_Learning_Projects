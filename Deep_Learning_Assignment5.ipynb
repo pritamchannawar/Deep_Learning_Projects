{
 "cells": [
  {
   "cell_type": "code",
   "execution_count": 1,
   "metadata": {
    "id": "221d7d16-afe5-4385-958a-f57d25d6baab",
    "tags": []
   },
   "outputs": [],
   "source": [
    "# Base class\n",
    "class Layer:\n",
    "    def __init__(self):\n",
    "        self.input = None\n",
    "        self.output = None\n",
    "\n",
    "    # computes the output Y of a layer for a given input X\n",
    "    def forward_propagation(self, input):\n",
    "        raise NotImplementedError\n",
    "\n",
    "    # computes dE/dX for a given dE/dY (and update parameters if any)\n",
    "    def backward_propagation(self, output_error, learning_rate):\n",
    "        raise NotImplementedError"
   ]
  },
  {
   "cell_type": "code",
   "execution_count": 2,
   "metadata": {
    "id": "78f27026-7cba-48c6-be3e-b5c25ff8a7cc",
    "tags": []
   },
   "outputs": [],
   "source": [
    "import numpy as np\n",
    "\n",
    "# inherit from base class Layer\n",
    "class FCLayer(Layer):\n",
    "    # input_size = number of input neurons\n",
    "    # output_size = number of output neurons\n",
    "    def __init__(self, input_size, output_size):\n",
    "        self.weights = np.random.rand(input_size, output_size) - 0.5\n",
    "        self.bias = np.random.rand(1, output_size) - 0.5\n",
    "\n",
    "    # returns output for a given input\n",
    "    def forward_propagation(self, input_data):\n",
    "        self.input = input_data\n",
    "        self.output = np.dot(self.input, self.weights) + self.bias\n",
    "        return self.output\n",
    "\n",
    "    # computes dE/dW, dE/dB for a given output_error=dE/dY. Returns input_error=dE/dX.\n",
    "    def backward_propagation(self, output_error, learning_rate):\n",
    "        input_error = np.dot(output_error, self.weights.T)\n",
    "        weights_error = np.dot(self.input.T, output_error)\n",
    "        # dBias = output_error\n",
    "\n",
    "        # update parameters\n",
    "        self.weights -= learning_rate * weights_error\n",
    "        self.bias -= learning_rate * output_error\n",
    "        return input_error"
   ]
  },
  {
   "cell_type": "code",
   "execution_count": 3,
   "metadata": {
    "id": "856aaa6a-f0e1-4951-9e3f-c67e901cde81",
    "tags": []
   },
   "outputs": [],
   "source": [
    "\n",
    "\n",
    "# inherit from base class Layer\n",
    "class ActivationLayer(Layer):\n",
    "    def __init__(self, activation, activation_prime):\n",
    "        self.activation = activation\n",
    "        self.activation_prime = activation_prime\n",
    "\n",
    "    # returns the activated input\n",
    "    def forward_propagation(self, input_data):\n",
    "        self.input = input_data\n",
    "        self.output = self.activation(self.input)\n",
    "        return self.output\n",
    "\n",
    "    # Returns input_error=dE/dX for a given output_error=dE/dY.\n",
    "    # learning_rate is not used because there is no \"learnable\" parameters.\n",
    "    def backward_propagation(self, output_error, learning_rate):\n",
    "        return self.activation_prime(self.input) * output_error"
   ]
  },
  {
   "cell_type": "code",
   "execution_count": 4,
   "metadata": {
    "id": "3578cfee-89db-4d18-81db-d139c13396e9",
    "tags": []
   },
   "outputs": [],
   "source": [
    "import numpy as np\n",
    "\n",
    "# activation function and its derivative\n",
    "def tanh(x):\n",
    "    return np.tanh(x);\n",
    "\n",
    "def tanh_prime(x):\n",
    "    return 1-np.tanh(x)**2;"
   ]
  },
  {
   "cell_type": "code",
   "execution_count": 5,
   "metadata": {
    "id": "a1ec6026-2a5d-4cce-9c4f-b3a5e50cd563",
    "tags": []
   },
   "outputs": [],
   "source": [
    "# loss function and its derivative\n",
    "def mse(y_true, y_pred):\n",
    "    return np.mean(np.power(y_true-y_pred, 2));\n",
    "\n",
    "def mse_prime(y_true, y_pred):\n",
    "    return 2*(y_pred-y_true)/y_true.size"
   ]
  },
  {
   "cell_type": "code",
   "execution_count": 6,
   "metadata": {
    "id": "4389a466-2b48-4015-8035-fd41be403734",
    "tags": []
   },
   "outputs": [],
   "source": [
    "class Network:\n",
    "    def __init__(self):\n",
    "        self.layers = []\n",
    "        self.loss = None\n",
    "        self.loss_prime = None\n",
    "\n",
    "    # add layer to network\n",
    "    def add(self, layer):\n",
    "        self.layers.append(layer)\n",
    "\n",
    "    # set loss to use\n",
    "    def use(self, loss, loss_prime):\n",
    "        self.loss = loss\n",
    "        self.loss_prime = loss_prime\n",
    "\n",
    "    # predict output for given input\n",
    "    def predict(self, input_data):\n",
    "        # sample dimension first\n",
    "        samples = len(input_data)\n",
    "        result = []\n",
    "\n",
    "        # run network over all samples\n",
    "        for i in range(samples):\n",
    "            # forward propagati on\n",
    "            output = input_data[i]\n",
    "            for layer in self.layers:\n",
    "                output = layer.forward_propagation(output)\n",
    "            result.append(output)\n",
    "\n",
    "        return result\n",
    "\n",
    "    # train the network\n",
    "    def fit(self, x_train, y_train, epochs, learning_rate):\n",
    "        # sample dimension first\n",
    "        samples = len(x_train)\n",
    "\n",
    "        # training loop\n",
    "        for i in range(epochs):\n",
    "            err = 0\n",
    "            for j in range(samples):\n",
    "                # forward propagation\n",
    "                output = x_train[j]\n",
    "                for layer in self.layers:\n",
    "                    output = layer.forward_propagation(output)\n",
    "\n",
    "                # compute loss (for display purpose only)\n",
    "                err += self.loss(y_train[j], output)\n",
    "\n",
    "                # backward propagation\n",
    "                error = self.loss_prime(y_train[j], output)\n",
    "                for layer in reversed(self.layers):\n",
    "                    error = layer.backward_propagation(error, learning_rate)\n",
    "\n",
    "            # calculate average error on all samples\n",
    "            err /= samples\n",
    "            print('epoch %d/%d   error=%f' % (i+1, epochs, err))"
   ]
  },
  {
   "cell_type": "code",
   "execution_count": 7,
   "metadata": {
    "id": "pzjbLHiX8fur",
    "tags": []
   },
   "outputs": [
    {
     "ename": "ModuleNotFoundError",
     "evalue": "No module named 'keras'",
     "output_type": "error",
     "traceback": [
      "\u001b[0;31m---------------------------------------------------------------------------\u001b[0m",
      "\u001b[0;31mModuleNotFoundError\u001b[0m                       Traceback (most recent call last)",
      "Cell \u001b[0;32mIn[7], line 1\u001b[0m\n\u001b[0;32m----> 1\u001b[0m \u001b[38;5;28;01mfrom\u001b[39;00m \u001b[38;5;21;01mkeras\u001b[39;00m\u001b[38;5;21;01m.\u001b[39;00m\u001b[38;5;21;01mdatasets\u001b[39;00m \u001b[38;5;28;01mimport\u001b[39;00m mnist\n\u001b[1;32m      2\u001b[0m \u001b[38;5;28;01mfrom\u001b[39;00m \u001b[38;5;21;01mkeras\u001b[39;00m \u001b[38;5;28;01mimport\u001b[39;00m utils\n",
      "\u001b[0;31mModuleNotFoundError\u001b[0m: No module named 'keras'"
     ]
    }
   ],
   "source": [
    "from keras.datasets import mnist\n",
    "from keras import utils"
   ]
  },
  {
   "cell_type": "code",
   "execution_count": 36,
   "metadata": {
    "id": "-eJv32BP9fAD"
   },
   "outputs": [],
   "source": [
    "(x_train, y_train), (x_test, y_test) = mnist.load_data()"
   ]
  },
  {
   "cell_type": "code",
   "execution_count": 37,
   "metadata": {
    "id": "u6FeYiw2-P6C"
   },
   "outputs": [],
   "source": [
    "x_train = x_train.reshape(60000, 1, 28*28)"
   ]
  },
  {
   "cell_type": "code",
   "execution_count": 38,
   "metadata": {
    "id": "ACpfalwC-4li"
   },
   "outputs": [],
   "source": [
    "x_test = x_test.reshape(10000, 1, 28*28)"
   ]
  },
  {
   "cell_type": "code",
   "execution_count": 39,
   "metadata": {
    "id": "7IyWkTMt_FCj"
   },
   "outputs": [],
   "source": [
    "x_train = x_train/255"
   ]
  },
  {
   "cell_type": "code",
   "execution_count": 40,
   "metadata": {
    "id": "7uwVOHOA_FLk"
   },
   "outputs": [],
   "source": [
    "x_test = x_test/255"
   ]
  },
  {
   "cell_type": "code",
   "execution_count": 41,
   "metadata": {
    "id": "r2JvA8cw_iVk"
   },
   "outputs": [],
   "source": [
    "y_train = utils.to_categorical(y_train)"
   ]
  },
  {
   "cell_type": "code",
   "execution_count": 42,
   "metadata": {
    "id": "19Dnt0Cm_idL"
   },
   "outputs": [],
   "source": [
    "model_1 = Network()\n",
    "model_1.add(FCLayer(28*28, 10))\n",
    "model_1.add(ActivationLayer(tanh, tanh_prime))"
   ]
  },
  {
   "cell_type": "code",
   "execution_count": 43,
   "metadata": {
    "id": "4HbtOFy5BonB"
   },
   "outputs": [],
   "source": [
    "model_1.use(mse,mse_prime)"
   ]
  },
  {
   "cell_type": "code",
   "execution_count": 44,
   "metadata": {
    "colab": {
     "base_uri": "https://localhost:8080/"
    },
    "id": "kB_6jOxACWZ6",
    "outputId": "f44478b5-cc98-4e6f-dba5-a6ba5bc8489d"
   },
   "outputs": [
    {
     "name": "stdout",
     "output_type": "stream",
     "text": [
      "epoch 1/10   error=0.666038\n",
      "epoch 2/10   error=0.542137\n",
      "epoch 3/10   error=0.479088\n",
      "epoch 4/10   error=0.431169\n",
      "epoch 5/10   error=0.391267\n",
      "epoch 6/10   error=0.358236\n",
      "epoch 7/10   error=0.330878\n",
      "epoch 8/10   error=0.307824\n",
      "epoch 9/10   error=0.287984\n",
      "epoch 10/10   error=0.270645\n"
     ]
    }
   ],
   "source": [
    "model_1.fit(x_train,y_train,10, 0.0003)"
   ]
  },
  {
   "cell_type": "code",
   "execution_count": 45,
   "metadata": {
    "id": "VizYRQRnCYpy"
   },
   "outputs": [],
   "source": [
    "def eval(model, x, y):\n",
    "  prediction = model.predict(x)\n",
    "  acc = 0\n",
    "  for i in range(len(y)):\n",
    "    pred = np.argmax(prediction[i][0])\n",
    "    if pred == y[i]:\n",
    "      acc += 1\n",
    "\n",
    "  return acc/len(y)"
   ]
  },
  {
   "cell_type": "code",
   "execution_count": 46,
   "metadata": {
    "colab": {
     "base_uri": "https://localhost:8080/"
    },
    "id": "i_G37lb8bw5m",
    "outputId": "bb177ac4-2e00-44b4-9c0b-ed3c909f09b7"
   },
   "outputs": [
    {
     "data": {
      "text/plain": [
       "0.5393"
      ]
     },
     "execution_count": 46,
     "metadata": {},
     "output_type": "execute_result"
    }
   ],
   "source": [
    "eval(model_1, x_test, y_test)"
   ]
  },
  {
   "cell_type": "code",
   "execution_count": 47,
   "metadata": {
    "id": "eq7-OaeabwW1"
   },
   "outputs": [],
   "source": [
    "model_2 = Network()\n",
    "model_2.add(FCLayer(28*28, 20))\n",
    "model_2.add(ActivationLayer(tanh, tanh_prime))\n",
    "model_2.add(FCLayer(20, 10))\n",
    "model_2.add(ActivationLayer(tanh, tanh_prime))"
   ]
  },
  {
   "cell_type": "code",
   "execution_count": 48,
   "metadata": {
    "id": "pkkbAhTWcG6c"
   },
   "outputs": [],
   "source": [
    "model_2.use(mse,mse_prime)"
   ]
  },
  {
   "cell_type": "code",
   "execution_count": 49,
   "metadata": {
    "colab": {
     "base_uri": "https://localhost:8080/"
    },
    "id": "cdEMxlhFcJQE",
    "outputId": "1c73360c-23f5-4a8c-9e55-60d0dfa28a1d"
   },
   "outputs": [
    {
     "name": "stdout",
     "output_type": "stream",
     "text": [
      "epoch 1/10   error=0.264866\n",
      "epoch 2/10   error=0.112547\n",
      "epoch 3/10   error=0.088710\n",
      "epoch 4/10   error=0.081281\n",
      "epoch 5/10   error=0.077621\n",
      "epoch 6/10   error=0.075291\n",
      "epoch 7/10   error=0.073546\n",
      "epoch 8/10   error=0.072098\n",
      "epoch 9/10   error=0.070822\n",
      "epoch 10/10   error=0.069663\n"
     ]
    }
   ],
   "source": [
    "model_2.fit(x_train,y_train,10, 0.0003)"
   ]
  },
  {
   "cell_type": "code",
   "execution_count": 50,
   "metadata": {
    "colab": {
     "base_uri": "https://localhost:8080/"
    },
    "id": "iZ8AeKVCcLbk",
    "outputId": "8ca77e50-3723-4e38-fe9c-1eaa5bd18470"
   },
   "outputs": [
    {
     "data": {
      "text/plain": [
       "0.4808"
      ]
     },
     "execution_count": 50,
     "metadata": {},
     "output_type": "execute_result"
    }
   ],
   "source": [
    "eval(model_2, x_test, y_test)"
   ]
  },
  {
   "cell_type": "code",
   "execution_count": 51,
   "metadata": {
    "id": "qzzkoMWRck9E"
   },
   "outputs": [],
   "source": [
    "model_3 = Network()\n",
    "model_3.add(FCLayer(28*28, 20))\n",
    "model_3.add(ActivationLayer(tanh, tanh_prime))\n",
    "model_3.add(FCLayer(20, 15))\n",
    "model_3.add(ActivationLayer(tanh, tanh_prime))\n",
    "model_3.add(FCLayer(15, 10))\n",
    "model_3.add(ActivationLayer(tanh, tanh_prime))"
   ]
  },
  {
   "cell_type": "code",
   "execution_count": 52,
   "metadata": {
    "id": "dvrmjkYacvSE"
   },
   "outputs": [],
   "source": [
    "model_3.use(mse,mse_prime)"
   ]
  },
  {
   "cell_type": "code",
   "execution_count": 53,
   "metadata": {
    "colab": {
     "base_uri": "https://localhost:8080/"
    },
    "id": "4VpcD1YKcyak",
    "outputId": "683da6e4-5d7e-4470-b997-24cfad6ca729"
   },
   "outputs": [
    {
     "name": "stdout",
     "output_type": "stream",
     "text": [
      "epoch 1/10   error=0.175813\n",
      "epoch 2/10   error=0.092494\n",
      "epoch 3/10   error=0.083693\n",
      "epoch 4/10   error=0.079647\n",
      "epoch 5/10   error=0.076697\n",
      "epoch 6/10   error=0.074275\n",
      "epoch 7/10   error=0.072222\n",
      "epoch 8/10   error=0.070457\n",
      "epoch 9/10   error=0.068918\n",
      "epoch 10/10   error=0.067552\n"
     ]
    }
   ],
   "source": [
    "model_3.fit(x_train,y_train,10, 0.0003)"
   ]
  },
  {
   "cell_type": "code",
   "execution_count": 54,
   "metadata": {
    "colab": {
     "base_uri": "https://localhost:8080/"
    },
    "id": "_t_DTyTzc0rE",
    "outputId": "7a2a05a1-fdc7-4f9e-83b3-a0634c09cf64"
   },
   "outputs": [
    {
     "data": {
      "text/plain": [
       "0.5592"
      ]
     },
     "execution_count": 54,
     "metadata": {},
     "output_type": "execute_result"
    }
   ],
   "source": [
    "eval(model_3, x_test, y_test)"
   ]
  },
  {
   "cell_type": "markdown",
   "metadata": {
    "id": "QiWlgGT2bKh-"
   },
   "source": [
    "# Assignmet 5 Work"
   ]
  },
  {
   "cell_type": "code",
   "execution_count": 55,
   "metadata": {
    "colab": {
     "base_uri": "https://localhost:8080/"
    },
    "id": "Nyxe-cVodalc",
    "outputId": "815dc7f9-a21f-4280-9dee-eedce0d35dd9"
   },
   "outputs": [
    {
     "name": "stdout",
     "output_type": "stream",
     "text": [
      "epoch 1/10   error=0.663749\n",
      "epoch 2/10   error=0.547334\n",
      "epoch 3/10   error=0.481176\n",
      "epoch 4/10   error=0.430406\n",
      "epoch 5/10   error=0.388244\n",
      "epoch 6/10   error=0.354013\n",
      "epoch 7/10   error=0.326046\n",
      "epoch 8/10   error=0.302461\n",
      "epoch 9/10   error=0.282209\n",
      "epoch 10/10   error=0.264593\n"
     ]
    },
    {
     "data": {
      "text/plain": [
       "0.533"
      ]
     },
     "execution_count": 55,
     "metadata": {},
     "output_type": "execute_result"
    }
   ],
   "source": [
    "model_4 = Network()\n",
    "model_4.add(FCLayer(28*28, 10))\n",
    "model_4.add(ActivationLayer(tanh, tanh_prime))\n",
    "model_4.use(mse,mse_prime)\n",
    "model_4.fit(x_train,y_train,10, 0.0003)\n",
    "eval(model_4, x_test, y_test)"
   ]
  },
  {
   "cell_type": "code",
   "execution_count": 55,
   "metadata": {
    "id": "g-yBfl9nar8F"
   },
   "outputs": [],
   "source": [
    " # learning_rate = 0.003 - 0.0003, epoch = 5 - 20"
   ]
  },
  {
   "cell_type": "code",
   "execution_count": 56,
   "metadata": {
    "colab": {
     "base_uri": "https://localhost:8080/"
    },
    "id": "sLtesuJQcvVT",
    "outputId": "0a79893d-c4fd-4e54-823a-a50a3f812835"
   },
   "outputs": [
    {
     "name": "stdout",
     "output_type": "stream",
     "text": [
      "epoch 1/5   error=0.432023\n",
      "epoch 2/5   error=0.218201\n",
      "epoch 3/5   error=0.144634\n",
      "epoch 4/5   error=0.108433\n",
      "epoch 5/5   error=0.087931\n"
     ]
    },
    {
     "data": {
      "text/plain": [
       "0.7322"
      ]
     },
     "execution_count": 56,
     "metadata": {},
     "output_type": "execute_result"
    }
   ],
   "source": [
    "model_5 = Network()\n",
    "model_5.add(FCLayer(28*28, 10))\n",
    "model_5.add(ActivationLayer(tanh, tanh_prime))\n",
    "model_5.use(mse,mse_prime)\n",
    "model_5.fit(x_train,y_train,5, 0.003)\n",
    "eval(model_5, x_test, y_test)"
   ]
  },
  {
   "cell_type": "code",
   "execution_count": 63,
   "metadata": {
    "colab": {
     "base_uri": "https://localhost:8080/"
    },
    "id": "P2dkUAzmdrf1",
    "outputId": "ebfbee4d-3078-47c9-efb0-717026cd4b69"
   },
   "outputs": [
    {
     "name": "stdout",
     "output_type": "stream",
     "text": [
      "epoch 1/10   error=0.417652\n",
      "epoch 2/10   error=0.209368\n",
      "epoch 3/10   error=0.139392\n",
      "epoch 4/10   error=0.105417\n",
      "epoch 5/10   error=0.086211\n",
      "epoch 6/10   error=0.074387\n",
      "epoch 7/10   error=0.066681\n",
      "epoch 8/10   error=0.061434\n",
      "epoch 9/10   error=0.057726\n",
      "epoch 10/10   error=0.055021\n"
     ]
    },
    {
     "data": {
      "text/plain": [
       "0.8096"
      ]
     },
     "execution_count": 63,
     "metadata": {},
     "output_type": "execute_result"
    }
   ],
   "source": [
    "model_6 = Network()\n",
    "model_6.add(FCLayer(28*28, 10))\n",
    "model_6.add(ActivationLayer(tanh, tanh_prime))\n",
    "model_6.use(mse,mse_prime)\n",
    "model_6.fit(x_train,y_train,10, 0.003)\n",
    "eval(model_6, x_test, y_test)"
   ]
  },
  {
   "cell_type": "code",
   "execution_count": 62,
   "metadata": {
    "colab": {
     "base_uri": "https://localhost:8080/"
    },
    "id": "bRdwnmbFeHFM",
    "outputId": "a79ab732-750b-4a4b-e4aa-7d57d6cd7d6e"
   },
   "outputs": [
    {
     "name": "stdout",
     "output_type": "stream",
     "text": [
      "epoch 1/20   error=0.404282\n",
      "epoch 2/20   error=0.205108\n",
      "epoch 3/20   error=0.140616\n",
      "epoch 4/20   error=0.107719\n",
      "epoch 5/20   error=0.088320\n",
      "epoch 6/20   error=0.076117\n",
      "epoch 7/20   error=0.068075\n",
      "epoch 8/20   error=0.062556\n",
      "epoch 9/20   error=0.058631\n",
      "epoch 10/20   error=0.055751\n",
      "epoch 11/20   error=0.053579\n",
      "epoch 12/20   error=0.051900\n",
      "epoch 13/20   error=0.050575\n",
      "epoch 14/20   error=0.049509\n",
      "epoch 15/20   error=0.048638\n",
      "epoch 16/20   error=0.047915\n",
      "epoch 17/20   error=0.047307\n",
      "epoch 18/20   error=0.046791\n",
      "epoch 19/20   error=0.046347\n",
      "epoch 20/20   error=0.045963\n"
     ]
    },
    {
     "data": {
      "text/plain": [
       "0.8234"
      ]
     },
     "execution_count": 62,
     "metadata": {},
     "output_type": "execute_result"
    }
   ],
   "source": [
    "model_7 = Network()\n",
    "model_7.add(FCLayer(28*28, 10))\n",
    "model_7.add(ActivationLayer(tanh, tanh_prime))\n",
    "model_7.use(mse,mse_prime)\n",
    "model_7.fit(x_train,y_train,20, 0.003)\n",
    "eval(model_7, x_test, y_test)"
   ]
  },
  {
   "cell_type": "code",
   "execution_count": 64,
   "metadata": {
    "colab": {
     "base_uri": "https://localhost:8080/"
    },
    "id": "-w7qEr6KjW0q",
    "outputId": "ef2a2128-efb7-43fa-ae79-2a14a5e396bb"
   },
   "outputs": [
    {
     "name": "stdout",
     "output_type": "stream",
     "text": [
      "epoch 1/20   error=0.469549\n",
      "epoch 2/20   error=0.276007\n",
      "epoch 3/20   error=0.195512\n",
      "epoch 4/20   error=0.150295\n",
      "epoch 5/20   error=0.121597\n",
      "epoch 6/20   error=0.102458\n",
      "epoch 7/20   error=0.089214\n",
      "epoch 8/20   error=0.079749\n",
      "epoch 9/20   error=0.072797\n",
      "epoch 10/20   error=0.067571\n",
      "epoch 11/20   error=0.063562\n",
      "epoch 12/20   error=0.060432\n",
      "epoch 13/20   error=0.057947\n",
      "epoch 14/20   error=0.055946\n",
      "epoch 15/20   error=0.054312\n",
      "epoch 16/20   error=0.052962\n",
      "epoch 17/20   error=0.051833\n",
      "epoch 18/20   error=0.050879\n",
      "epoch 19/20   error=0.050065\n",
      "epoch 20/20   error=0.049364\n"
     ]
    },
    {
     "data": {
      "text/plain": [
       "0.8174"
      ]
     },
     "execution_count": 64,
     "metadata": {},
     "output_type": "execute_result"
    }
   ],
   "source": [
    "model_8 = Network()\n",
    "model_8.add(FCLayer(28*28, 10))\n",
    "model_8.add(ActivationLayer(tanh, tanh_prime))\n",
    "model_8.use(mse,mse_prime)\n",
    "model_8.fit(x_train,y_train,20, 0.002)\n",
    "eval(model_8, x_test, y_test)"
   ]
  },
  {
   "cell_type": "code",
   "execution_count": 65,
   "metadata": {
    "colab": {
     "base_uri": "https://localhost:8080/"
    },
    "id": "2ob1KIV6k90F",
    "outputId": "ad5eb4d9-0b7a-45ae-9650-c533458cd53f"
   },
   "outputs": [
    {
     "name": "stdout",
     "output_type": "stream",
     "text": [
      "epoch 1/15   error=0.453458\n",
      "epoch 2/15   error=0.263784\n",
      "epoch 3/15   error=0.187924\n",
      "epoch 4/15   error=0.145686\n",
      "epoch 5/15   error=0.119296\n",
      "epoch 6/15   error=0.101479\n",
      "epoch 7/15   error=0.088870\n",
      "epoch 8/15   error=0.079686\n",
      "epoch 9/15   error=0.072851\n",
      "epoch 10/15   error=0.067667\n",
      "epoch 11/15   error=0.063667\n",
      "epoch 12/15   error=0.060530\n",
      "epoch 13/15   error=0.058032\n",
      "epoch 14/15   error=0.056014\n",
      "epoch 15/15   error=0.054364\n"
     ]
    },
    {
     "data": {
      "text/plain": [
       "0.8118"
      ]
     },
     "execution_count": 65,
     "metadata": {},
     "output_type": "execute_result"
    }
   ],
   "source": [
    "model_9 = Network()\n",
    "model_9.add(FCLayer(28*28, 10))\n",
    "model_9.add(ActivationLayer(tanh, tanh_prime))\n",
    "model_9.use(mse,mse_prime)\n",
    "model_9.fit(x_train,y_train,15, 0.002)\n",
    "eval(model_9, x_test, y_test)"
   ]
  },
  {
   "cell_type": "code",
   "execution_count": 71,
   "metadata": {
    "colab": {
     "base_uri": "https://localhost:8080/"
    },
    "id": "cPg00WaYmwRA",
    "outputId": "19cadfcb-51fb-4be7-a55f-88cb70e237b7"
   },
   "outputs": [
    {
     "name": "stdout",
     "output_type": "stream",
     "text": [
      "epoch 1/20   error=0.563057\n",
      "epoch 2/20   error=0.379469\n",
      "epoch 3/20   error=0.294327\n",
      "epoch 4/20   error=0.240519\n",
      "epoch 5/20   error=0.203598\n",
      "epoch 6/20   error=0.176575\n",
      "epoch 7/20   error=0.155807\n",
      "epoch 8/20   error=0.139318\n",
      "epoch 9/20   error=0.125943\n",
      "epoch 10/20   error=0.114940\n",
      "epoch 11/20   error=0.105795\n",
      "epoch 12/20   error=0.098136\n",
      "epoch 13/20   error=0.091676\n",
      "epoch 14/20   error=0.086195\n",
      "epoch 15/20   error=0.081520\n",
      "epoch 16/20   error=0.077510\n",
      "epoch 17/20   error=0.074054\n",
      "epoch 18/20   error=0.071060\n",
      "epoch 19/20   error=0.068454\n",
      "epoch 20/20   error=0.066176\n"
     ]
    },
    {
     "data": {
      "text/plain": [
       "0.7821"
      ]
     },
     "execution_count": 71,
     "metadata": {},
     "output_type": "execute_result"
    }
   ],
   "source": [
    "model_10 = Network()\n",
    "model_10.add(FCLayer(28*28, 10))\n",
    "model_10.add(ActivationLayer(tanh, tanh_prime))\n",
    "model_10.use(mse,mse_prime)\n",
    "model_10.fit(x_train,y_train,20, 0.001)\n",
    "eval(model_10, x_test, y_test)"
   ]
  },
  {
   "cell_type": "code",
   "execution_count": 74,
   "metadata": {
    "colab": {
     "base_uri": "https://localhost:8080/"
    },
    "id": "zxF5fBY1q14Z",
    "outputId": "74a749f9-bb4c-4be3-90bd-430b15d22717"
   },
   "outputs": [
    {
     "name": "stdout",
     "output_type": "stream",
     "text": [
      "epoch 1/15   error=0.433091\n",
      "epoch 2/15   error=0.217418\n",
      "epoch 3/15   error=0.144607\n",
      "epoch 4/15   error=0.108563\n",
      "epoch 5/15   error=0.088049\n",
      "epoch 6/15   error=0.075445\n",
      "epoch 7/15   error=0.067267\n",
      "epoch 8/15   error=0.061724\n",
      "epoch 9/15   error=0.057827\n",
      "epoch 10/15   error=0.055000\n",
      "epoch 11/15   error=0.052890\n",
      "epoch 12/15   error=0.051278\n",
      "epoch 13/15   error=0.050018\n",
      "epoch 14/15   error=0.049013\n",
      "epoch 15/15   error=0.048198\n"
     ]
    },
    {
     "data": {
      "text/plain": [
       "0.8201"
      ]
     },
     "execution_count": 74,
     "metadata": {},
     "output_type": "execute_result"
    }
   ],
   "source": [
    "model_11 = Network()\n",
    "model_11.add(FCLayer(28*28, 10))\n",
    "model_11.add(ActivationLayer(tanh, tanh_prime))\n",
    "model_11.use(mse,mse_prime)\n",
    "model_11.fit(x_train,y_train,15, 0.003)\n",
    "eval(model_11, x_test, y_test)"
   ]
  },
  {
   "cell_type": "code",
   "execution_count": 76,
   "metadata": {
    "colab": {
     "base_uri": "https://localhost:8080/"
    },
    "id": "4sJA6rq8ssAs",
    "outputId": "6de251ca-fdd0-43dd-f085-cc28d80e377a"
   },
   "outputs": [
    {
     "name": "stdout",
     "output_type": "stream",
     "text": [
      "epoch 1/10   error=0.417471\n",
      "epoch 2/10   error=0.211008\n",
      "epoch 3/10   error=0.142466\n",
      "epoch 4/10   error=0.108739\n",
      "epoch 5/10   error=0.089119\n",
      "epoch 6/10   error=0.076716\n",
      "epoch 7/10   error=0.068465\n",
      "epoch 8/10   error=0.062767\n",
      "epoch 9/10   error=0.058709\n",
      "epoch 10/10   error=0.055738\n"
     ]
    },
    {
     "data": {
      "text/plain": [
       "0.802"
      ]
     },
     "execution_count": 76,
     "metadata": {},
     "output_type": "execute_result"
    }
   ],
   "source": [
    "model_12 = Network()\n",
    "model_12.add(FCLayer(28*28, 10))\n",
    "model_12.add(ActivationLayer(tanh, tanh_prime))\n",
    "model_12.use(mse,mse_prime)\n",
    "model_12.fit(x_train,y_train,10, 0.003)\n",
    "eval(model_12, x_test, y_test)"
   ]
  },
  {
   "cell_type": "markdown",
   "metadata": {
    "id": "9UG3-KdiAoJ0"
   },
   "source": [
    "# Custom class to find best combination"
   ]
  },
  {
   "cell_type": "code",
   "execution_count": 81,
   "metadata": {
    "id": "hw7z4uQ1-F79"
   },
   "outputs": [],
   "source": [
    "def bold_text(text):\n",
    "  return \"\\033[1m\" + text + \"\\033[0m\""
   ]
  },
  {
   "cell_type": "code",
   "execution_count": 87,
   "metadata": {
    "colab": {
     "base_uri": "https://localhost:8080/"
    },
    "id": "KzwL51-C5i5i",
    "outputId": "dd853dd5-89be-4e73-f20f-e4f91ba6d66c"
   },
   "outputs": [
    {
     "name": "stdout",
     "output_type": "stream",
     "text": [
      "epoch 1/5   error=0.415367\n",
      "epoch 2/5   error=0.207765\n",
      "epoch 3/5   error=0.140478\n",
      "epoch 4/5   error=0.106692\n",
      "epoch 5/5   error=0.087154\n",
      "\u001b[1mModel with Learning Rate: 0.003 and Epochs: 5 has Accuracy: 0.7405  \u001b[0m\n",
      "epoch 1/10   error=0.413581\n",
      "epoch 2/10   error=0.208386\n",
      "epoch 3/10   error=0.140258\n",
      "epoch 4/10   error=0.106257\n",
      "epoch 5/10   error=0.086652\n",
      "epoch 6/10   error=0.074544\n",
      "epoch 7/10   error=0.066683\n",
      "epoch 8/10   error=0.061357\n",
      "epoch 9/10   error=0.057612\n",
      "epoch 10/10   error=0.054891\n",
      "\u001b[1mModel with Learning Rate: 0.003 and Epochs: 10 has Accuracy: 0.8081  \u001b[0m\n",
      "epoch 1/15   error=0.414798\n",
      "epoch 2/15   error=0.207773\n",
      "epoch 3/15   error=0.139511\n",
      "epoch 4/15   error=0.105921\n",
      "epoch 5/15   error=0.086618\n",
      "epoch 6/15   error=0.074646\n",
      "epoch 7/15   error=0.066838\n",
      "epoch 8/15   error=0.061528\n",
      "epoch 9/15   error=0.057781\n",
      "epoch 10/15   error=0.055049\n",
      "epoch 11/15   error=0.053000\n",
      "epoch 12/15   error=0.051424\n",
      "epoch 13/15   error=0.050183\n",
      "epoch 14/15   error=0.049187\n",
      "epoch 15/15   error=0.048374\n",
      "\u001b[1mModel with Learning Rate: 0.003 and Epochs: 15 has Accuracy: 0.8163  \u001b[0m\n",
      "epoch 1/20   error=0.420468\n",
      "epoch 2/20   error=0.214431\n",
      "epoch 3/20   error=0.143514\n",
      "epoch 4/20   error=0.107890\n",
      "epoch 5/20   error=0.087523\n",
      "epoch 6/20   error=0.075037\n",
      "epoch 7/20   error=0.066968\n",
      "epoch 8/20   error=0.061522\n",
      "epoch 9/20   error=0.057703\n",
      "epoch 10/20   error=0.054933\n",
      "epoch 11/20   error=0.052864\n",
      "epoch 12/20   error=0.051279\n",
      "epoch 13/20   error=0.050036\n",
      "epoch 14/20   error=0.049041\n",
      "epoch 15/20   error=0.048232\n",
      "epoch 16/20   error=0.047563\n",
      "epoch 17/20   error=0.047003\n",
      "epoch 18/20   error=0.046527\n",
      "epoch 19/20   error=0.046120\n",
      "epoch 20/20   error=0.045767\n",
      "\u001b[1mModel with Learning Rate: 0.003 and Epochs: 20 has Accuracy: 0.8249  \u001b[0m\n",
      "epoch 1/5   error=0.548653\n",
      "epoch 2/5   error=0.388205\n",
      "epoch 3/5   error=0.300944\n",
      "epoch 4/5   error=0.243580\n",
      "epoch 5/5   error=0.204502\n",
      "\u001b[1mModel with Learning Rate: 0.001 and Epochs: 5 has Accuracy: 0.5683  \u001b[0m\n",
      "epoch 1/10   error=0.545676\n",
      "epoch 2/10   error=0.385234\n",
      "epoch 3/10   error=0.297578\n",
      "epoch 4/10   error=0.239611\n",
      "epoch 5/10   error=0.200529\n",
      "epoch 6/10   error=0.172605\n",
      "epoch 7/10   error=0.151603\n",
      "epoch 8/10   error=0.135238\n",
      "epoch 9/10   error=0.122183\n",
      "epoch 10/10   error=0.111594\n",
      "\u001b[1mModel with Learning Rate: 0.001 and Epochs: 10 has Accuracy: 0.6937  \u001b[0m\n",
      "epoch 1/15   error=0.536440\n",
      "epoch 2/15   error=0.384537\n",
      "epoch 3/15   error=0.301455\n",
      "epoch 4/15   error=0.246818\n",
      "epoch 5/15   error=0.207985\n",
      "epoch 6/15   error=0.178948\n",
      "epoch 7/15   error=0.156590\n",
      "epoch 8/15   error=0.139106\n",
      "epoch 9/15   error=0.125254\n",
      "epoch 10/15   error=0.114123\n",
      "epoch 11/15   error=0.105049\n",
      "epoch 12/15   error=0.097553\n",
      "epoch 13/15   error=0.091288\n",
      "epoch 14/15   error=0.085997\n",
      "epoch 15/15   error=0.081491\n",
      "\u001b[1mModel with Learning Rate: 0.001 and Epochs: 15 has Accuracy: 0.7503  \u001b[0m\n",
      "epoch 1/20   error=0.538409\n",
      "epoch 2/20   error=0.383657\n",
      "epoch 3/20   error=0.298244\n",
      "epoch 4/20   error=0.245066\n",
      "epoch 5/20   error=0.208118\n",
      "epoch 6/20   error=0.180374\n",
      "epoch 7/20   error=0.158670\n",
      "epoch 8/20   error=0.141272\n",
      "epoch 9/20   error=0.127130\n",
      "epoch 10/20   error=0.115533\n",
      "epoch 11/20   error=0.105956\n",
      "epoch 12/20   error=0.097993\n",
      "epoch 13/20   error=0.091330\n",
      "epoch 14/20   error=0.085717\n",
      "epoch 15/20   error=0.080959\n",
      "epoch 16/20   error=0.076903\n",
      "epoch 17/20   error=0.073425\n",
      "epoch 18/20   error=0.070427\n",
      "epoch 19/20   error=0.067829\n",
      "epoch 20/20   error=0.065566\n",
      "\u001b[1mModel with Learning Rate: 0.001 and Epochs: 20 has Accuracy: 0.7865  \u001b[0m\n",
      "epoch 1/5   error=0.450111\n",
      "epoch 2/5   error=0.258138\n",
      "epoch 3/5   error=0.184999\n",
      "epoch 4/5   error=0.144706\n",
      "epoch 5/5   error=0.118640\n",
      "\u001b[1mModel with Learning Rate: 0.002 and Epochs: 5 has Accuracy: 0.6838  \u001b[0m\n",
      "epoch 1/10   error=0.468706\n",
      "epoch 2/10   error=0.278468\n",
      "epoch 3/10   error=0.195123\n",
      "epoch 4/10   error=0.150244\n",
      "epoch 5/10   error=0.122042\n",
      "epoch 6/10   error=0.103100\n",
      "epoch 7/10   error=0.089883\n",
      "epoch 8/10   error=0.080385\n",
      "epoch 9/10   error=0.073382\n",
      "epoch 10/10   error=0.068099\n",
      "\u001b[1mModel with Learning Rate: 0.002 and Epochs: 10 has Accuracy: 0.7767  \u001b[0m\n",
      "epoch 1/15   error=0.448012\n",
      "epoch 2/15   error=0.258359\n",
      "epoch 3/15   error=0.186027\n",
      "epoch 4/15   error=0.145132\n",
      "epoch 5/15   error=0.118795\n",
      "epoch 6/15   error=0.100882\n",
      "epoch 7/15   error=0.088273\n",
      "epoch 8/15   error=0.079157\n",
      "epoch 9/15   error=0.072412\n",
      "epoch 10/15   error=0.067317\n",
      "epoch 11/15   error=0.063395\n",
      "epoch 12/15   error=0.060323\n",
      "epoch 13/15   error=0.057878\n",
      "epoch 14/15   error=0.055902\n",
      "epoch 15/15   error=0.054285\n",
      "\u001b[1mModel with Learning Rate: 0.002 and Epochs: 15 has Accuracy: 0.8114  \u001b[0m\n",
      "epoch 1/20   error=0.473622\n",
      "epoch 2/20   error=0.278538\n",
      "epoch 3/20   error=0.196744\n",
      "epoch 4/20   error=0.151037\n",
      "epoch 5/20   error=0.122309\n",
      "epoch 6/20   error=0.103099\n",
      "epoch 7/20   error=0.089763\n",
      "epoch 8/20   error=0.080212\n",
      "epoch 9/20   error=0.073182\n",
      "epoch 10/20   error=0.067885\n",
      "epoch 11/20   error=0.063810\n",
      "epoch 12/20   error=0.060618\n",
      "epoch 13/20   error=0.058077\n",
      "epoch 14/20   error=0.056025\n",
      "epoch 15/20   error=0.054346\n",
      "epoch 16/20   error=0.052957\n",
      "epoch 17/20   error=0.051793\n",
      "epoch 18/20   error=0.050810\n",
      "epoch 19/20   error=0.049971\n",
      "epoch 20/20   error=0.049250\n",
      "\u001b[1mModel with Learning Rate: 0.002 and Epochs: 20 has Accuracy: 0.8199  \u001b[0m\n",
      "epoch 1/5   error=0.669871\n",
      "epoch 2/5   error=0.486766\n",
      "epoch 3/5   error=0.404183\n",
      "epoch 4/5   error=0.349860\n",
      "epoch 5/5   error=0.308127\n",
      "\u001b[1mModel with Learning Rate: 0.0005 and Epochs: 5 has Accuracy: 0.5009  \u001b[0m\n",
      "epoch 1/10   error=0.600086\n",
      "epoch 2/10   error=0.475524\n",
      "epoch 3/10   error=0.403906\n",
      "epoch 4/10   error=0.350018\n",
      "epoch 5/10   error=0.307890\n",
      "epoch 6/10   error=0.275079\n",
      "epoch 7/10   error=0.248931\n",
      "epoch 8/10   error=0.227496\n",
      "epoch 9/10   error=0.209561\n",
      "epoch 10/10   error=0.194287\n",
      "\u001b[1mModel with Learning Rate: 0.0005 and Epochs: 10 has Accuracy: 0.5755  \u001b[0m\n",
      "epoch 1/15   error=0.626663\n",
      "epoch 2/15   error=0.474986\n",
      "epoch 3/15   error=0.403339\n",
      "epoch 4/15   error=0.348682\n",
      "epoch 5/15   error=0.306581\n",
      "epoch 6/15   error=0.274125\n",
      "epoch 7/15   error=0.248163\n",
      "epoch 8/15   error=0.226716\n",
      "epoch 9/15   error=0.208611\n",
      "epoch 10/15   error=0.193091\n",
      "epoch 11/15   error=0.179632\n",
      "epoch 12/15   error=0.167857\n",
      "epoch 13/15   error=0.157481\n",
      "epoch 14/15   error=0.148284\n",
      "epoch 15/15   error=0.140090\n",
      "\u001b[1mModel with Learning Rate: 0.0005 and Epochs: 15 has Accuracy: 0.6458  \u001b[0m\n",
      "epoch 1/20   error=0.642059\n",
      "epoch 2/20   error=0.477944\n",
      "epoch 3/20   error=0.411307\n",
      "epoch 4/20   error=0.361431\n",
      "epoch 5/20   error=0.320440\n",
      "epoch 6/20   error=0.286726\n",
      "epoch 7/20   error=0.259006\n",
      "epoch 8/20   error=0.236014\n",
      "epoch 9/20   error=0.216686\n",
      "epoch 10/20   error=0.200202\n",
      "epoch 11/20   error=0.185962\n",
      "epoch 12/20   error=0.173528\n",
      "epoch 13/20   error=0.162578\n",
      "epoch 14/20   error=0.152866\n",
      "epoch 15/20   error=0.144207\n",
      "epoch 16/20   error=0.136451\n",
      "epoch 17/20   error=0.129478\n",
      "epoch 18/20   error=0.123190\n",
      "epoch 19/20   error=0.117503\n",
      "epoch 20/20   error=0.112346\n",
      "\u001b[1mModel with Learning Rate: 0.0005 and Epochs: 20 has Accuracy: 0.6751  \u001b[0m\n",
      "epoch 1/5   error=0.619654\n",
      "epoch 2/5   error=0.509505\n",
      "epoch 3/5   error=0.441975\n",
      "epoch 4/5   error=0.388939\n",
      "epoch 5/5   error=0.347516\n",
      "\u001b[1mModel with Learning Rate: 0.0004 and Epochs: 5 has Accuracy: 0.4856  \u001b[0m\n",
      "epoch 1/10   error=0.646072\n",
      "epoch 2/10   error=0.537499\n",
      "epoch 3/10   error=0.476499\n",
      "epoch 4/10   error=0.425225\n",
      "epoch 5/10   error=0.380370\n",
      "epoch 6/10   error=0.343808\n",
      "epoch 7/10   error=0.313738\n",
      "epoch 8/10   error=0.288128\n",
      "epoch 9/10   error=0.265922\n",
      "epoch 10/10   error=0.246429\n",
      "\u001b[1mModel with Learning Rate: 0.0004 and Epochs: 10 has Accuracy: 0.5346  \u001b[0m\n",
      "epoch 1/15   error=0.645638\n",
      "epoch 2/15   error=0.524455\n",
      "epoch 3/15   error=0.453560\n",
      "epoch 4/15   error=0.397753\n",
      "epoch 5/15   error=0.354217\n",
      "epoch 6/15   error=0.318286\n",
      "epoch 7/15   error=0.287904\n",
      "epoch 8/15   error=0.262245\n",
      "epoch 9/15   error=0.240705\n",
      "epoch 10/15   error=0.222581\n",
      "epoch 11/15   error=0.207191\n",
      "epoch 12/15   error=0.193956\n",
      "epoch 13/15   error=0.182417\n",
      "epoch 14/15   error=0.172237\n",
      "epoch 15/15   error=0.163169\n",
      "\u001b[1mModel with Learning Rate: 0.0004 and Epochs: 15 has Accuracy: 0.6089  \u001b[0m\n",
      "epoch 1/20   error=0.622169\n",
      "epoch 2/20   error=0.526164\n",
      "epoch 3/20   error=0.457553\n",
      "epoch 4/20   error=0.400226\n",
      "epoch 5/20   error=0.354974\n",
      "epoch 6/20   error=0.319047\n",
      "epoch 7/20   error=0.289385\n",
      "epoch 8/20   error=0.264473\n",
      "epoch 9/20   error=0.243391\n",
      "epoch 10/20   error=0.225400\n",
      "epoch 11/20   error=0.209899\n",
      "epoch 12/20   error=0.196423\n",
      "epoch 13/20   error=0.184609\n",
      "epoch 14/20   error=0.174174\n",
      "epoch 15/20   error=0.164892\n",
      "epoch 16/20   error=0.156582\n",
      "epoch 17/20   error=0.149098\n",
      "epoch 18/20   error=0.142324\n",
      "epoch 19/20   error=0.136163\n",
      "epoch 20/20   error=0.130539\n",
      "\u001b[1mModel with Learning Rate: 0.0004 and Epochs: 20 has Accuracy: 0.6488  \u001b[0m\n",
      "epoch 1/5   error=0.683272\n",
      "epoch 2/5   error=0.557945\n",
      "epoch 3/5   error=0.498591\n",
      "epoch 4/5   error=0.452201\n",
      "epoch 5/5   error=0.412342\n",
      "\u001b[1mModel with Learning Rate: 0.0003 and Epochs: 5 has Accuracy: 0.4322  \u001b[0m\n",
      "epoch 1/10   error=0.657470\n",
      "epoch 2/10   error=0.557652\n",
      "epoch 3/10   error=0.492574\n",
      "epoch 4/10   error=0.439996\n",
      "epoch 5/10   error=0.396896\n",
      "epoch 6/10   error=0.360976\n",
      "epoch 7/10   error=0.331673\n",
      "epoch 8/10   error=0.307890\n",
      "epoch 9/10   error=0.288088\n",
      "epoch 10/10   error=0.271119\n",
      "\u001b[1mModel with Learning Rate: 0.0003 and Epochs: 10 has Accuracy: 0.5283  \u001b[0m\n",
      "epoch 1/15   error=0.637975\n",
      "epoch 2/15   error=0.538305\n",
      "epoch 3/15   error=0.485138\n",
      "epoch 4/15   error=0.442860\n",
      "epoch 5/15   error=0.404334\n",
      "epoch 6/15   error=0.371667\n",
      "epoch 7/15   error=0.344509\n",
      "epoch 8/15   error=0.321199\n",
      "epoch 9/15   error=0.300595\n",
      "epoch 10/15   error=0.282119\n",
      "epoch 11/15   error=0.265463\n",
      "epoch 12/15   error=0.250419\n",
      "epoch 13/15   error=0.236818\n",
      "epoch 14/15   error=0.224510\n",
      "epoch 15/15   error=0.213354\n",
      "\u001b[1mModel with Learning Rate: 0.0003 and Epochs: 15 has Accuracy: 0.5558  \u001b[0m\n",
      "epoch 1/20   error=0.621682\n",
      "epoch 2/20   error=0.522469\n",
      "epoch 3/20   error=0.472307\n",
      "epoch 4/20   error=0.433543\n",
      "epoch 5/20   error=0.400135\n",
      "epoch 6/20   error=0.370592\n",
      "epoch 7/20   error=0.344119\n",
      "epoch 8/20   error=0.320319\n",
      "epoch 9/20   error=0.299003\n",
      "epoch 10/20   error=0.279996\n",
      "epoch 11/20   error=0.263088\n",
      "epoch 12/20   error=0.248039\n",
      "epoch 13/20   error=0.234608\n",
      "epoch 14/20   error=0.222569\n",
      "epoch 15/20   error=0.211722\n",
      "epoch 16/20   error=0.201895\n",
      "epoch 17/20   error=0.192944\n",
      "epoch 18/20   error=0.184747\n",
      "epoch 19/20   error=0.177206\n",
      "epoch 20/20   error=0.170241\n",
      "\u001b[1mModel with Learning Rate: 0.0003 and Epochs: 20 has Accuracy: 0.5955  \u001b[0m\n",
      "\u001b[1mModel with Learning Rate: 0.003, Epochs: 20 has best Accuracy: 0.8249\u001b[0m\n"
     ]
    }
   ],
   "source": [
    "learning_rates = [0.003, 0.001, 0.002, 0.0005, 0.0004, 0.0003]\n",
    "epochs = [5, 10, 15, 20]\n",
    "accuracy_1 = 0\n",
    "lr_1 = None\n",
    "epochs_1 = None\n",
    "\n",
    "for lr in learning_rates:\n",
    "    for ep in epochs:\n",
    "        model = Network()\n",
    "        model.add(FCLayer(28*28, 10))\n",
    "        model.add(ActivationLayer(tanh, tanh_prime))\n",
    "        model.use(mse, mse_prime)\n",
    "        model.fit(x_train, y_train, ep, lr)\n",
    "        accuracy = eval(model, x_test, y_test)\n",
    "        print(bold_text(\"Model with Learning Rate: {} and Epochs: {} has Accuracy: {}  \" .format(lr, ep, accuracy)))\n",
    "        if accuracy > accuracy_1:\n",
    "            accuracy_1 = accuracy\n",
    "            lr_1 = lr\n",
    "            epochs_1 = ep\n",
    "\n",
    "print(bold_text(\"Model with Learning Rate: {}, Epochs: {} has best Accuracy: {}\".format(lr_1, epochs_1, accuracy_1)))"
   ]
  },
  {
   "cell_type": "markdown",
   "metadata": {
    "id": "07UWId-gIw7u"
   },
   "source": [
    "# Conclusion"
   ]
  },
  {
   "cell_type": "markdown",
   "metadata": {
    "id": "OjuBYFrjIu8w"
   },
   "source": [
    "I have performed various combinations of Learning rate and Epochs sizes on model, among all of them I have observed that high epoch size is performing well as compared to lesss epochs and this applies to learning rate as well.\n",
    "Model with Learning Rate 0.003 and Epoch 20 gave the highest accuracy of ~0.83"
   ]
  }
 ],
 "metadata": {
  "colab": {
   "provenance": []
  },
  "kernelspec": {
   "display_name": "Python 3 (ipykernel)",
   "language": "python",
   "name": "python3"
  },
  "language_info": {
   "codemirror_mode": {
    "name": "ipython",
    "version": 3
   },
   "file_extension": ".py",
   "mimetype": "text/x-python",
   "name": "python",
   "nbconvert_exporter": "python",
   "pygments_lexer": "ipython3",
   "version": "3.11.4"
  }
 },
 "nbformat": 4,
 "nbformat_minor": 4
}
