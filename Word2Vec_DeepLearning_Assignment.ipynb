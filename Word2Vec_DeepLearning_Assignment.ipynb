{
  "nbformat": 4,
  "nbformat_minor": 0,
  "metadata": {
    "colab": {
      "provenance": []
    },
    "kernelspec": {
      "name": "python3",
      "display_name": "Python 3"
    },
    "language_info": {
      "name": "python"
    }
  },
  "cells": [
    {
      "cell_type": "markdown",
      "source": [
        "# Deep Learning Word2Vec Assignment"
      ],
      "metadata": {
        "id": "wSS0BvXIdehR"
      }
    },
    {
      "cell_type": "markdown",
      "source": [
        "Part 1: Semantic Analysis with Word2Vec\n",
        "1. Word Embeddings Generation:\n",
        "\n",
        "• Use the Gensim library to train a Word2Vec model on a dataset (Shakespeare dataset or another corpus\n",
        "of your choice).\n",
        "\n",
        "• Generate word embeddings for the vocabulary of the corpus.\n",
        "2. Semantic Similarity:\n",
        "\n",
        "• Implement a function to find the k most similar words to a given word based on the trained Word2Vec\n",
        "embeddings.\n",
        "\n",
        "• Test the function with several words, including both common and unusual words from the corpus.\n",
        "\n",
        "3. Word Analogy Task:\n",
        "\n",
        "• Create a function that solves word analogies using the embeddings. The function should take three words\n",
        "as input: word1, word2, word3, and predict a word4 such that word1 is to word2 as word3 is to word4.\n",
        "\n",
        "• Test this function with at least 5 different word sets."
      ],
      "metadata": {
        "id": "NAgDZoU10Bos"
      }
    },
    {
      "cell_type": "code",
      "source": [
        "#!pip install gensim numpy nltk"
      ],
      "metadata": {
        "id": "ZLRjlhJHqL4P"
      },
      "execution_count": 1,
      "outputs": []
    },
    {
      "cell_type": "code",
      "execution_count": 1,
      "metadata": {
        "id": "Ffm1StiIFBz7"
      },
      "outputs": [],
      "source": [
        "# Import necessary libraries\n",
        "import gensim\n",
        "from gensim.models import Word2Vec\n",
        "from nltk.tokenize import word_tokenize\n",
        "import nltk\n",
        "import numpy as np"
      ]
    },
    {
      "cell_type": "code",
      "source": [
        "# Download NLTK data for tokenization\n",
        "nltk.download('punkt')\n",
        "\n",
        "# Load the Shakespeare dataset or any other corpus\n",
        "corpus_path = 'Shakespeare.txt'\n",
        "with open(corpus_path, 'r', encoding='utf-8') as file:\n",
        "    corpus = file.read()"
      ],
      "metadata": {
        "colab": {
          "base_uri": "https://localhost:8080/"
        },
        "id": "f1lmAueAFDhw",
        "outputId": "46205019-2683-4770-ca5a-30b9e76bd4bc"
      },
      "execution_count": 2,
      "outputs": [
        {
          "output_type": "stream",
          "name": "stderr",
          "text": [
            "[nltk_data] Downloading package punkt to /root/nltk_data...\n",
            "[nltk_data]   Unzipping tokenizers/punkt.zip.\n"
          ]
        }
      ]
    },
    {
      "cell_type": "code",
      "source": [
        "# Tokenize the corpus\n",
        "tokenized_corpus = [word_tokenize(sentence.lower()) for sentence in nltk.sent_tokenize(corpus)]"
      ],
      "metadata": {
        "id": "_gN8poPAFDfF"
      },
      "execution_count": 3,
      "outputs": []
    },
    {
      "cell_type": "code",
      "source": [
        "# Train Word2Vec model\n",
        "model = Word2Vec(sentences=tokenized_corpus, vector_size=100, window=5, min_count=1, workers=5)"
      ],
      "metadata": {
        "id": "w8EhRbrUFDcd"
      },
      "execution_count": 4,
      "outputs": []
    },
    {
      "cell_type": "code",
      "source": [
        "# Function to find k most similar words\n",
        "def find_similar_words(word, k=5):\n",
        "    similar_words = model.wv.most_similar(word, topn=k)\n",
        "    return similar_words"
      ],
      "metadata": {
        "id": "fAilfZ8vFDXP"
      },
      "execution_count": 5,
      "outputs": []
    },
    {
      "cell_type": "code",
      "source": [
        "# Test similarity function\n",
        "print(\"Similar words to 'queen':\", find_similar_words('queen'))\n"
      ],
      "metadata": {
        "colab": {
          "base_uri": "https://localhost:8080/"
        },
        "id": "XM_l2aO9FDMA",
        "outputId": "3a05edaf-6bd2-4a3b-df54-7eb4fc9a4feb"
      },
      "execution_count": 6,
      "outputs": [
        {
          "output_type": "stream",
          "name": "stdout",
          "text": [
            "Similar words to 'queen': [('prince', 0.8835061192512512), ('edward', 0.8520456552505493), ('duke', 0.8314784169197083), ('talbot', 0.8165407776832581), ('uncle', 0.8129514455795288)]\n"
          ]
        }
      ]
    },
    {
      "cell_type": "code",
      "source": [
        "# Test similarity function\n",
        "print(\"Similar words to 'love':\", find_similar_words('love'))"
      ],
      "metadata": {
        "colab": {
          "base_uri": "https://localhost:8080/"
        },
        "id": "MeBknkRN6n8k",
        "outputId": "aa728f9d-8640-43f4-8dee-fa874250b335"
      },
      "execution_count": 7,
      "outputs": [
        {
          "output_type": "stream",
          "name": "stdout",
          "text": [
            "Similar words to 'love': [('honour', 0.8329340219497681), ('fear', 0.7831326723098755), ('mind', 0.7742968201637268), ('service', 0.7741389870643616), ('praise', 0.7707477807998657)]\n"
          ]
        }
      ]
    },
    {
      "cell_type": "code",
      "source": [
        "# Test similarity function\n",
        "print(\"Similar words to 'sad':\", find_similar_words('sad'))"
      ],
      "metadata": {
        "colab": {
          "base_uri": "https://localhost:8080/"
        },
        "id": "f2T1pyjR6zCO",
        "outputId": "64d10cd8-44ed-46bd-8463-554bce5c0d28"
      },
      "execution_count": 8,
      "outputs": [
        {
          "output_type": "stream",
          "name": "stdout",
          "text": [
            "Similar words to 'sad': [('counterfeit', 0.8691274523735046), ('afoot', 0.867260217666626), ('penitent', 0.8621577024459839), ('justly', 0.8616181015968323), ('mated', 0.860101044178009)]\n"
          ]
        }
      ]
    },
    {
      "cell_type": "code",
      "source": [
        "# Test similarity function\n",
        "print(\"Similar words to 'own':\", find_similar_words('own'))"
      ],
      "metadata": {
        "colab": {
          "base_uri": "https://localhost:8080/"
        },
        "id": "C_DLXqt16nw-",
        "outputId": "b263b38d-4ed2-495b-d67e-db3827cc474c"
      },
      "execution_count": 9,
      "outputs": [
        {
          "output_type": "stream",
          "name": "stdout",
          "text": [
            "Similar words to 'own': [('honour', 0.8144571781158447), ('only', 0.7515467405319214), ('eye', 0.7494300007820129), ('tears', 0.7460199594497681), ('ear', 0.7388452291488647)]\n"
          ]
        }
      ]
    },
    {
      "cell_type": "code",
      "source": [
        "# Test similarity function\n",
        "print(\"Similar words to 'misuse':\", find_similar_words('misuse'))"
      ],
      "metadata": {
        "colab": {
          "base_uri": "https://localhost:8080/"
        },
        "id": "0MmavueC6njw",
        "outputId": "4df283c2-39ff-4073-d6be-607be9448ab5"
      },
      "execution_count": 10,
      "outputs": [
        {
          "output_type": "stream",
          "name": "stdout",
          "text": [
            "Similar words to 'misuse': [('gather', 0.886717677116394), ('suppose', 0.8862058520317078), ('govern', 0.8822861909866333), ('dry', 0.872860312461853), ('corrupt', 0.8728272318840027)]\n"
          ]
        }
      ]
    },
    {
      "cell_type": "code",
      "source": [
        "# Test similarity function\n",
        "print(\"Similar words to 'jester':\", find_similar_words('jester'))"
      ],
      "metadata": {
        "colab": {
          "base_uri": "https://localhost:8080/"
        },
        "id": "Jkr8nviZP1EI",
        "outputId": "dbaa44da-9111-4ab1-df4b-fb136ce00199"
      },
      "execution_count": 11,
      "outputs": [
        {
          "output_type": "stream",
          "name": "stdout",
          "text": [
            "Similar words to 'jester': [('count', 0.8560357689857483), ('creature', 0.8421004414558411), ('apartment', 0.8372412919998169), ('widow', 0.8366355895996094), ('physician', 0.8320467472076416)]\n"
          ]
        }
      ]
    },
    {
      "cell_type": "code",
      "source": [
        "# Function for word analogy task\n",
        "def word_analogy_task(word1, word2, word3, k=1):\n",
        "    try:\n",
        "        word4 = model.wv.most_similar(positive=[word2, word3], negative=[word1], topn=k)[0][0]\n",
        "        return word4\n",
        "    except KeyError:\n",
        "        return f\"Words not in vocabulary: {word1}, {word2}, {word3}\""
      ],
      "metadata": {
        "id": "XLqJLVNHq1Kz"
      },
      "execution_count": 12,
      "outputs": []
    },
    {
      "cell_type": "code",
      "source": [
        "# Test word analogy function\n",
        "word_sets = [('king', 'queen', 'man', 1),\n",
        "             ('paris', 'france', 'london', 1),\n",
        "             ('good', 'better', 'bad', 2),\n",
        "             ('sun', 'day', 'moon', 4),\n",
        "             ('fish', 'water', 'bird', 2),\n",
        "              ('cat', 'kitten', 'dog', 2),\n",
        "            ('happy', 'happier', 'sad', 2),\n",
        "              ('book', 'author', 'song', 2)]\n",
        "\n",
        "for word_set in word_sets:\n",
        "    word1, word2, word3, k = word_set\n",
        "    predicted_word = word_analogy_task(word1, word2, word3, k)\n",
        "    print(f\"{word1} : {word2} :: {word3} : {predicted_word}\")"
      ],
      "metadata": {
        "colab": {
          "base_uri": "https://localhost:8080/"
        },
        "id": "ElYWt37Lq4jR",
        "outputId": "334c563c-ee75-4afa-d7e1-6510c652061e"
      },
      "execution_count": 13,
      "outputs": [
        {
          "output_type": "stream",
          "name": "stdout",
          "text": [
            "king : queen :: man : soldier\n",
            "paris : france :: london : venice\n",
            "good : better :: bad : greater\n",
            "sun : day :: moon : night\n",
            "fish : water :: bird : spring\n",
            "cat : kitten :: dog : votarist\n",
            "happy : happier :: sad : dalliance\n",
            "book : author :: song : idol\n"
          ]
        }
      ]
    },
    {
      "cell_type": "code",
      "source": [
        "# Save the Word2Vec model\n",
        "model.save(\"word2vec_model\")"
      ],
      "metadata": {
        "id": "5Zh_NXSFs8lK"
      },
      "execution_count": 14,
      "outputs": []
    },
    {
      "cell_type": "markdown",
      "source": [
        "Part 3: Visualization (Optional)\n",
        "\n",
        "• Use PCA or t-SNE to visualize the high-dimensional word embeddings in two dimensions.\n",
        "\n",
        "• Plot the embeddings for a select set of words and their closest neighbors."
      ],
      "metadata": {
        "id": "-w_ceZR5dWor"
      }
    },
    {
      "cell_type": "code",
      "source": [
        "from sklearn.decomposition import PCA\n",
        "from sklearn.manifold import TSNE\n",
        "import numpy as np\n",
        "import matplotlib.pyplot as plt\n"
      ],
      "metadata": {
        "id": "54nUrAw_cbR1"
      },
      "execution_count": 17,
      "outputs": []
    },
    {
      "cell_type": "code",
      "source": [
        "# Visualize word embeddings using PCA\n",
        "def plot_embeddings(words, embeddings, title):\n",
        "    pca = PCA(n_components=2)\n",
        "    reduced_embeddings = pca.fit_transform(embeddings)\n",
        "\n",
        "    plt.figure(figsize=(10, 8))\n",
        "    plt.scatter(reduced_embeddings[:, 0], reduced_embeddings[:, 1], c='blue', edgecolors='k')\n",
        "    for i, word in enumerate(words):\n",
        "        plt.annotate(word, (reduced_embeddings[i, 0], reduced_embeddings[i, 1]))\n",
        "\n",
        "    plt.title(title)\n",
        "    plt.show()"
      ],
      "metadata": {
        "id": "4hk9sHqtcbNv"
      },
      "execution_count": 18,
      "outputs": []
    },
    {
      "cell_type": "code",
      "source": [
        "# Select a set of words for visualization\n",
        "visualization_words = ['love', 'king', 'queen', 'sword', 'forest', 'ship', 'war', 'peace']"
      ],
      "metadata": {
        "id": "uZnkXa_qc_KW"
      },
      "execution_count": 19,
      "outputs": []
    },
    {
      "cell_type": "code",
      "source": [
        "# Get embeddings for visualization words\n",
        "embeddings = [model.wv[word] for word in visualization_words]"
      ],
      "metadata": {
        "id": "dPXgJLH1dKqd"
      },
      "execution_count": 20,
      "outputs": []
    },
    {
      "cell_type": "code",
      "source": [
        "# Plot the embeddings using PCA\n",
        "plot_embeddings(visualization_words, embeddings, 'Word Embeddings Visualization using PCA')\n"
      ],
      "metadata": {
        "colab": {
          "base_uri": "https://localhost:8080/",
          "height": 699
        },
        "id": "aSW71KpqdOZ7",
        "outputId": "ae6e314a-967e-4c26-802b-0c83a611cb77"
      },
      "execution_count": 21,
      "outputs": [
        {
          "output_type": "display_data",
          "data": {
            "text/plain": [
              "<Figure size 1000x800 with 1 Axes>"
            ],
            "image/png": "[encoded data removed]"
          },
          "metadata": {}
        }
      ]
    }
  ]
}